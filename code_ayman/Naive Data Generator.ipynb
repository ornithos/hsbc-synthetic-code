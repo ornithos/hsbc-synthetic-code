{
 "cells": [
  {
   "cell_type": "code",
   "execution_count": 17,
   "metadata": {
    "collapsed": true
   },
   "outputs": [],
   "source": [
    "import numpy as np\n",
    "import pandas as pd\n",
    "import scipy.stats as st\n",
    "import pickle"
   ]
  },
  {
   "cell_type": "code",
   "execution_count": 31,
   "metadata": {
    "collapsed": true
   },
   "outputs": [],
   "source": [
    "# Given Parameters\n",
    "I = 100 # Number of customers\n",
    "J = 100 # Number of trasactions per customer\n",
    "K = 2 # Number of types\n",
    "R = 3 # Regression dimensionality\n",
    "\n",
    "eta = 1000 # Gamma parameter 1\n",
    "zeta = 500 # Gamma parameter 2\n",
    "\n",
    "b = np.random.normal(0, 1, size=(I, R))\n",
    "\n",
    "lambdas = np.random.exponential(scale=0.2, size=(K, R))"
   ]
  },
  {
   "cell_type": "code",
   "execution_count": 32,
   "metadata": {
    "collapsed": true
   },
   "outputs": [],
   "source": [
    "w = np.random.normal(0, scale=lambdas)\n",
    "\n",
    "logits = np.matmul(w,b.T).T\n",
    "theta = np.exp(logits)/np.sum(np.exp(logits), axis=1)[:,None]\n",
    "\n",
    "phi_alpha = np.random.exponential(eta, K)\n",
    "phi_beta = np.random.exponential(zeta, K)"
   ]
  },
  {
   "cell_type": "code",
   "execution_count": 33,
   "metadata": {
    "collapsed": true
   },
   "outputs": [],
   "source": [
    "cid = []\n",
    "y = []\n",
    "x = []\n",
    "for i in range(I):\n",
    "    alpha = np.dot(phi_alpha, theta[i,:])\n",
    "    beta = np.dot(phi_beta, theta[i,:])\n",
    "    for j in range(J):\n",
    "        cid.append(i)\n",
    "        y.append(np.random.choice(K, p=theta[i,:]))\n",
    "        x.append(np.random.gamma(alpha, beta))"
   ]
  },
  {
   "cell_type": "code",
   "execution_count": 34,
   "metadata": {
    "collapsed": true
   },
   "outputs": [],
   "source": [
    "x = np.vstack(x)\n",
    "y = np.vstack(y)\n",
    "cid = np.vstack(cid)"
   ]
  },
  {
   "cell_type": "code",
   "execution_count": 35,
   "metadata": {
    "collapsed": true
   },
   "outputs": [],
   "source": [
    "data = np.hstack([cid,y,x])"
   ]
  },
  {
   "cell_type": "code",
   "execution_count": 36,
   "metadata": {
    "collapsed": true
   },
   "outputs": [],
   "source": [
    "data = pd.DataFrame(data=data, columns=['cid', 'y', 'x'])"
   ]
  },
  {
   "cell_type": "code",
   "execution_count": 37,
   "metadata": {
    "collapsed": true
   },
   "outputs": [],
   "source": [
    "bs = [b[i,:] for i in range(b.shape[0])]"
   ]
  },
  {
   "cell_type": "code",
   "execution_count": 38,
   "metadata": {
    "collapsed": true
   },
   "outputs": [],
   "source": [
    "x = [list(data[data['cid']==i]['x']) for i in range(I)]\n",
    "y = [list(data[data['cid']==i]['y'].astype(int)) for i in range(I)]"
   ]
  },
  {
   "cell_type": "code",
   "execution_count": 39,
   "metadata": {
    "collapsed": true
   },
   "outputs": [],
   "source": [
    "model_data = {\n",
    "    'I': I,\n",
    "    'J': J,\n",
    "    'K': K,\n",
    "    'R': R,\n",
    "    'eta': eta,\n",
    "    'zeta': zeta,\n",
    "    'b': bs,\n",
    "    'x': x,\n",
    "    'y': y,\n",
    "    'lambda': lambdas\n",
    "}"
   ]
  },
  {
   "cell_type": "code",
   "execution_count": 40,
   "metadata": {
    "collapsed": true
   },
   "outputs": [],
   "source": [
    "with open('./model_data.pickle', 'wb') as f:\n",
    "    pickle.dump(model_data, f)"
   ]
  },
  {
   "cell_type": "code",
   "execution_count": 41,
   "metadata": {
    "collapsed": true
   },
   "outputs": [],
   "source": [
    "init_dict = {\n",
    "    'omega': w,\n",
    "    'phi_alpha': phi_alpha,\n",
    "    'phi_beta': phi_beta,\n",
    "    'theta': theta\n",
    "}"
   ]
  },
  {
   "cell_type": "code",
   "execution_count": 42,
   "metadata": {
    "collapsed": true
   },
   "outputs": [],
   "source": [
    "with open('./init_dict.pickle', 'wb') as f:\n",
    "    pickle.dump(init_dict, f)"
   ]
  }
 ],
 "metadata": {
  "kernelspec": {
   "display_name": "Python 3",
   "language": "python",
   "name": "python3"
  },
  "language_info": {
   "codemirror_mode": {
    "name": "ipython",
    "version": 3
   },
   "file_extension": ".py",
   "mimetype": "text/x-python",
   "name": "python",
   "nbconvert_exporter": "python",
   "pygments_lexer": "ipython3",
   "version": "3.6.1"
  }
 },
 "nbformat": 4,
 "nbformat_minor": 2
}
