{
 "cells": [
  {
   "cell_type": "markdown",
   "metadata": {},
   "source": [
    "# Transaction Amount Generator Using Gaussian Process Regression\n",
    "This notebooks details how to generate realistic transaction amounts using Gaussian Process Regression based on customer information. This method is detailed in the report."
   ]
  },
  {
   "cell_type": "code",
   "execution_count": 1,
   "metadata": {
    "collapsed": true
   },
   "outputs": [],
   "source": [
    "import numpy as np\n",
    "import pandas as pd\n",
    "import GPy"
   ]
  },
  {
   "cell_type": "code",
   "execution_count": 5,
   "metadata": {},
   "outputs": [],
   "source": [
    "# Load the data\n",
    "customers_path = '../customers.csv'\n",
    "customers = pd.read_csv(customers_path)\n",
    "\n",
    "transactions_path = '../database.csv'\n",
    "transactions = pd.read_csv(transactions_path)"
   ]
  },
  {
   "cell_type": "code",
   "execution_count": 7,
   "metadata": {},
   "outputs": [
    {
     "data": {
      "text/html": [
       "<div>\n",
       "<style>\n",
       "    .dataframe thead tr:only-child th {\n",
       "        text-align: right;\n",
       "    }\n",
       "\n",
       "    .dataframe thead th {\n",
       "        text-align: left;\n",
       "    }\n",
       "\n",
       "    .dataframe tbody tr th {\n",
       "        vertical-align: top;\n",
       "    }\n",
       "</style>\n",
       "<table border=\"1\" class=\"dataframe\">\n",
       "  <thead>\n",
       "    <tr style=\"text-align: right;\">\n",
       "      <th></th>\n",
       "      <th>Unnamed: 0</th>\n",
       "      <th>account_id</th>\n",
       "      <th>district_id</th>\n",
       "      <th>frequency</th>\n",
       "      <th>date</th>\n",
       "      <th>A2</th>\n",
       "      <th>A3</th>\n",
       "      <th>A4</th>\n",
       "      <th>A5</th>\n",
       "      <th>A6</th>\n",
       "      <th>A7</th>\n",
       "      <th>A8</th>\n",
       "      <th>A9</th>\n",
       "      <th>A10</th>\n",
       "      <th>A11</th>\n",
       "      <th>A12</th>\n",
       "      <th>A13</th>\n",
       "      <th>A14</th>\n",
       "      <th>A15</th>\n",
       "      <th>A16</th>\n",
       "    </tr>\n",
       "  </thead>\n",
       "  <tbody>\n",
       "    <tr>\n",
       "      <th>0</th>\n",
       "      <td>0</td>\n",
       "      <td>576</td>\n",
       "      <td>55</td>\n",
       "      <td>0</td>\n",
       "      <td>1993-01-01</td>\n",
       "      <td>Brno - venkov</td>\n",
       "      <td>south Moravia</td>\n",
       "      <td>157042</td>\n",
       "      <td>49</td>\n",
       "      <td>70</td>\n",
       "      <td>18</td>\n",
       "      <td>0</td>\n",
       "      <td>9</td>\n",
       "      <td>33.9</td>\n",
       "      <td>8743</td>\n",
       "      <td>1.88</td>\n",
       "      <td>2.43</td>\n",
       "      <td>111</td>\n",
       "      <td>3659</td>\n",
       "      <td>3894</td>\n",
       "    </tr>\n",
       "    <tr>\n",
       "      <th>1</th>\n",
       "      <td>1</td>\n",
       "      <td>704</td>\n",
       "      <td>55</td>\n",
       "      <td>0</td>\n",
       "      <td>1993-01-01</td>\n",
       "      <td>Brno - venkov</td>\n",
       "      <td>south Moravia</td>\n",
       "      <td>157042</td>\n",
       "      <td>49</td>\n",
       "      <td>70</td>\n",
       "      <td>18</td>\n",
       "      <td>0</td>\n",
       "      <td>9</td>\n",
       "      <td>33.9</td>\n",
       "      <td>8743</td>\n",
       "      <td>1.88</td>\n",
       "      <td>2.43</td>\n",
       "      <td>111</td>\n",
       "      <td>3659</td>\n",
       "      <td>3894</td>\n",
       "    </tr>\n",
       "    <tr>\n",
       "      <th>2</th>\n",
       "      <td>2</td>\n",
       "      <td>192</td>\n",
       "      <td>55</td>\n",
       "      <td>0</td>\n",
       "      <td>1993-01-08</td>\n",
       "      <td>Brno - venkov</td>\n",
       "      <td>south Moravia</td>\n",
       "      <td>157042</td>\n",
       "      <td>49</td>\n",
       "      <td>70</td>\n",
       "      <td>18</td>\n",
       "      <td>0</td>\n",
       "      <td>9</td>\n",
       "      <td>33.9</td>\n",
       "      <td>8743</td>\n",
       "      <td>1.88</td>\n",
       "      <td>2.43</td>\n",
       "      <td>111</td>\n",
       "      <td>3659</td>\n",
       "      <td>3894</td>\n",
       "    </tr>\n",
       "    <tr>\n",
       "      <th>3</th>\n",
       "      <td>3</td>\n",
       "      <td>10364</td>\n",
       "      <td>55</td>\n",
       "      <td>0</td>\n",
       "      <td>1993-01-17</td>\n",
       "      <td>Brno - venkov</td>\n",
       "      <td>south Moravia</td>\n",
       "      <td>157042</td>\n",
       "      <td>49</td>\n",
       "      <td>70</td>\n",
       "      <td>18</td>\n",
       "      <td>0</td>\n",
       "      <td>9</td>\n",
       "      <td>33.9</td>\n",
       "      <td>8743</td>\n",
       "      <td>1.88</td>\n",
       "      <td>2.43</td>\n",
       "      <td>111</td>\n",
       "      <td>3659</td>\n",
       "      <td>3894</td>\n",
       "    </tr>\n",
       "    <tr>\n",
       "      <th>4</th>\n",
       "      <td>4</td>\n",
       "      <td>497</td>\n",
       "      <td>55</td>\n",
       "      <td>0</td>\n",
       "      <td>1993-04-15</td>\n",
       "      <td>Brno - venkov</td>\n",
       "      <td>south Moravia</td>\n",
       "      <td>157042</td>\n",
       "      <td>49</td>\n",
       "      <td>70</td>\n",
       "      <td>18</td>\n",
       "      <td>0</td>\n",
       "      <td>9</td>\n",
       "      <td>33.9</td>\n",
       "      <td>8743</td>\n",
       "      <td>1.88</td>\n",
       "      <td>2.43</td>\n",
       "      <td>111</td>\n",
       "      <td>3659</td>\n",
       "      <td>3894</td>\n",
       "    </tr>\n",
       "  </tbody>\n",
       "</table>\n",
       "</div>"
      ],
      "text/plain": [
       "   Unnamed: 0  account_id  district_id  frequency        date             A2  \\\n",
       "0           0         576           55          0  1993-01-01  Brno - venkov   \n",
       "1           1         704           55          0  1993-01-01  Brno - venkov   \n",
       "2           2         192           55          0  1993-01-08  Brno - venkov   \n",
       "3           3       10364           55          0  1993-01-17  Brno - venkov   \n",
       "4           4         497           55          0  1993-04-15  Brno - venkov   \n",
       "\n",
       "              A3      A4  A5  A6  A7  A8  A9   A10   A11   A12   A13  A14  \\\n",
       "0  south Moravia  157042  49  70  18   0   9  33.9  8743  1.88  2.43  111   \n",
       "1  south Moravia  157042  49  70  18   0   9  33.9  8743  1.88  2.43  111   \n",
       "2  south Moravia  157042  49  70  18   0   9  33.9  8743  1.88  2.43  111   \n",
       "3  south Moravia  157042  49  70  18   0   9  33.9  8743  1.88  2.43  111   \n",
       "4  south Moravia  157042  49  70  18   0   9  33.9  8743  1.88  2.43  111   \n",
       "\n",
       "    A15   A16  \n",
       "0  3659  3894  \n",
       "1  3659  3894  \n",
       "2  3659  3894  \n",
       "3  3659  3894  \n",
       "4  3659  3894  "
      ]
     },
     "execution_count": 7,
     "metadata": {},
     "output_type": "execute_result"
    }
   ],
   "source": [
    "customers.head()"
   ]
  },
  {
   "cell_type": "code",
   "execution_count": 8,
   "metadata": {},
   "outputs": [
    {
     "data": {
      "text/html": [
       "<div>\n",
       "<style>\n",
       "    .dataframe thead tr:only-child th {\n",
       "        text-align: right;\n",
       "    }\n",
       "\n",
       "    .dataframe thead th {\n",
       "        text-align: left;\n",
       "    }\n",
       "\n",
       "    .dataframe tbody tr th {\n",
       "        vertical-align: top;\n",
       "    }\n",
       "</style>\n",
       "<table border=\"1\" class=\"dataframe\">\n",
       "  <thead>\n",
       "    <tr style=\"text-align: right;\">\n",
       "      <th></th>\n",
       "      <th>Unnamed: 0</th>\n",
       "      <th>account_id</th>\n",
       "      <th>trans_id</th>\n",
       "      <th>category</th>\n",
       "      <th>k-symbol</th>\n",
       "      <th>date</th>\n",
       "      <th>amount</th>\n",
       "      <th>mean_income</th>\n",
       "      <th>Initial Balance</th>\n",
       "    </tr>\n",
       "  </thead>\n",
       "  <tbody>\n",
       "    <tr>\n",
       "      <th>0</th>\n",
       "      <td>0</td>\n",
       "      <td>1</td>\n",
       "      <td>5</td>\n",
       "      <td>0</td>\n",
       "      <td>-1</td>\n",
       "      <td>1995-03-24</td>\n",
       "      <td>122.633333</td>\n",
       "      <td>1358.788889</td>\n",
       "      <td>33.333333</td>\n",
       "    </tr>\n",
       "    <tr>\n",
       "      <th>1</th>\n",
       "      <td>1</td>\n",
       "      <td>1</td>\n",
       "      <td>199</td>\n",
       "      <td>29</td>\n",
       "      <td>-1</td>\n",
       "      <td>1995-04-13</td>\n",
       "      <td>420.000000</td>\n",
       "      <td>1358.788889</td>\n",
       "      <td>33.333333</td>\n",
       "    </tr>\n",
       "    <tr>\n",
       "      <th>2</th>\n",
       "      <td>2</td>\n",
       "      <td>1</td>\n",
       "      <td>3530438</td>\n",
       "      <td>40</td>\n",
       "      <td>2</td>\n",
       "      <td>1995-04-23</td>\n",
       "      <td>0.640000</td>\n",
       "      <td>1358.788889</td>\n",
       "      <td>33.333333</td>\n",
       "    </tr>\n",
       "    <tr>\n",
       "      <th>3</th>\n",
       "      <td>3</td>\n",
       "      <td>1</td>\n",
       "      <td>6</td>\n",
       "      <td>0</td>\n",
       "      <td>-1</td>\n",
       "      <td>1995-04-30</td>\n",
       "      <td>122.633333</td>\n",
       "      <td>1358.788889</td>\n",
       "      <td>33.333333</td>\n",
       "    </tr>\n",
       "    <tr>\n",
       "      <th>4</th>\n",
       "      <td>4</td>\n",
       "      <td>1</td>\n",
       "      <td>200</td>\n",
       "      <td>46</td>\n",
       "      <td>-1</td>\n",
       "      <td>1995-05-13</td>\n",
       "      <td>70.000000</td>\n",
       "      <td>1358.788889</td>\n",
       "      <td>33.333333</td>\n",
       "    </tr>\n",
       "  </tbody>\n",
       "</table>\n",
       "</div>"
      ],
      "text/plain": [
       "   Unnamed: 0  account_id  trans_id  category k-symbol        date  \\\n",
       "0           0           1         5         0       -1  1995-03-24   \n",
       "1           1           1       199        29       -1  1995-04-13   \n",
       "2           2           1   3530438        40        2  1995-04-23   \n",
       "3           3           1         6         0       -1  1995-04-30   \n",
       "4           4           1       200        46       -1  1995-05-13   \n",
       "\n",
       "       amount  mean_income  Initial Balance  \n",
       "0  122.633333  1358.788889        33.333333  \n",
       "1  420.000000  1358.788889        33.333333  \n",
       "2    0.640000  1358.788889        33.333333  \n",
       "3  122.633333  1358.788889        33.333333  \n",
       "4   70.000000  1358.788889        33.333333  "
      ]
     },
     "execution_count": 8,
     "metadata": {},
     "output_type": "execute_result"
    }
   ],
   "source": [
    "transactions.head()"
   ]
  },
  {
   "cell_type": "code",
   "execution_count": 9,
   "metadata": {
    "collapsed": true
   },
   "outputs": [],
   "source": [
    "# Merge the two datasets and select the relevat attributes only\n",
    "data = pd.merge(customers, transactions, on='account_id')[['account_id', 'category','amount', 'mean_income', 'A4', 'A11', 'A13', 'A16']]"
   ]
  },
  {
   "cell_type": "code",
   "execution_count": 10,
   "metadata": {
    "collapsed": true
   },
   "outputs": [],
   "source": [
    "# Derive Crime Rate from number of crimes and population of area\n",
    "data['A16'] = data['A16']/data['A4']"
   ]
  },
  {
   "cell_type": "code",
   "execution_count": 11,
   "metadata": {
    "collapsed": true
   },
   "outputs": [],
   "source": [
    "# Select outgoing transactions only\n",
    "data = data[data['amount']>0]"
   ]
  },
  {
   "cell_type": "code",
   "execution_count": 13,
   "metadata": {
    "collapsed": true
   },
   "outputs": [],
   "source": [
    "# Create a dataframe containing 200 random samples for each transaction category and store in a list\n",
    "strats = []\n",
    "for cat in data['category'].unique():\n",
    "    strats.append((cat, data[data['category']==cat].sample(n=200, replace=True)))"
   ]
  },
  {
   "cell_type": "code",
   "execution_count": 14,
   "metadata": {
    "collapsed": true
   },
   "outputs": [],
   "source": [
    "# Assign X and Y values\n",
    "X = []\n",
    "Y = []\n",
    "for _, datum in strats:\n",
    "    X.append(datum[['mean_income','A4','A11','A13','A16']].as_matrix())\n",
    "    Y.append(datum['amount'].as_matrix()[:,None])"
   ]
  },
  {
   "cell_type": "code",
   "execution_count": 15,
   "metadata": {},
   "outputs": [
    {
     "name": "stderr",
     "output_type": "stream",
     "text": [
      " /home/ayman/anaconda3/envs/hsbc/lib/python3.6/site-packages/GPy/kern/src/stationary.py:158: RuntimeWarning:overflow encountered in true_divide\n",
      " /home/ayman/anaconda3/envs/hsbc/lib/python3.6/site-packages/GPy/kern/src/stationary.py:130: RuntimeWarning:invalid value encountered in add\n"
     ]
    }
   ],
   "source": [
    "# Fit GP models for each category\n",
    "models = []\n",
    "for XX, YY in zip(X,Y):\n",
    "    K = GPy.kern.RBF(5, ARD=True)\n",
    "    m = GPy.models.GPRegression(XX,YY,K)\n",
    "    m.optimize()\n",
    "    models.append(m)"
   ]
  },
  {
   "cell_type": "code",
   "execution_count": 16,
   "metadata": {
    "collapsed": true
   },
   "outputs": [],
   "source": [
    "# Sample another 200 samples for each category for testing purposes\n",
    "test_strats = []\n",
    "for cat in data['category'].unique():\n",
    "    test_strats.append((cat, data[data['category']==cat].sample(n=200, replace=True)))"
   ]
  },
  {
   "cell_type": "code",
   "execution_count": 17,
   "metadata": {
    "collapsed": true
   },
   "outputs": [],
   "source": [
    "# Extract X (customer info) for \"test\" cases\n",
    "test_X = []\n",
    "for _, datum in strats:\n",
    "    test_X.append(datum[['mean_income','A4','A11','A13','A16']].as_matrix())"
   ]
  },
  {
   "cell_type": "code",
   "execution_count": 18,
   "metadata": {},
   "outputs": [
    {
     "name": "stderr",
     "output_type": "stream",
     "text": [
      " /home/ayman/anaconda3/envs/hsbc/lib/python3.6/site-packages/GPy/core/gp.py:498: RuntimeWarning:covariance is not positive-semidefinite.\n"
     ]
    }
   ],
   "source": [
    "# Generate samples from the GP posteriors - These are the synthetic data samples\n",
    "test_Y = []\n",
    "for m, XX in zip(models, test_X):\n",
    "    test_Y.append(m.posterior_samples(XX,size=1))"
   ]
  },
  {
   "cell_type": "code",
   "execution_count": 19,
   "metadata": {},
   "outputs": [
    {
     "data": {
      "text/plain": [
       "(10000, 7)"
      ]
     },
     "execution_count": 19,
     "metadata": {},
     "output_type": "execute_result"
    }
   ],
   "source": [
    "# Format data\n",
    "categories = []\n",
    "for cat, _ in strats:\n",
    "    for i in range(200):\n",
    "        categories.append(cat)\n",
    "\n",
    "categories=np.vstack(categories)\n",
    "\n",
    "amounts = np.vstack(test_Y)\n",
    "features = np.vstack(test_X)\n",
    "\n",
    "synthetic_data = np.hstack([features, categories, amounts])\n",
    "\n",
    "synthetic_data.shape"
   ]
  },
  {
   "cell_type": "code",
   "execution_count": 21,
   "metadata": {},
   "outputs": [
    {
     "data": {
      "text/html": [
       "<div>\n",
       "<style>\n",
       "    .dataframe thead tr:only-child th {\n",
       "        text-align: right;\n",
       "    }\n",
       "\n",
       "    .dataframe thead th {\n",
       "        text-align: left;\n",
       "    }\n",
       "\n",
       "    .dataframe tbody tr th {\n",
       "        vertical-align: top;\n",
       "    }\n",
       "</style>\n",
       "<table border=\"1\" class=\"dataframe\">\n",
       "  <thead>\n",
       "    <tr style=\"text-align: right;\">\n",
       "      <th></th>\n",
       "      <th>mean_income</th>\n",
       "      <th>A4</th>\n",
       "      <th>A11</th>\n",
       "      <th>A13</th>\n",
       "      <th>A16</th>\n",
       "      <th>category</th>\n",
       "      <th>amount</th>\n",
       "    </tr>\n",
       "  </thead>\n",
       "  <tbody>\n",
       "    <tr>\n",
       "      <th>0</th>\n",
       "      <td>3246.595714</td>\n",
       "      <td>138032.0</td>\n",
       "      <td>8819.0</td>\n",
       "      <td>5.66</td>\n",
       "      <td>0.032637</td>\n",
       "      <td>6.0</td>\n",
       "      <td>217.411486</td>\n",
       "    </tr>\n",
       "    <tr>\n",
       "      <th>1</th>\n",
       "      <td>2200.562564</td>\n",
       "      <td>51313.0</td>\n",
       "      <td>8930.0</td>\n",
       "      <td>4.20</td>\n",
       "      <td>0.028297</td>\n",
       "      <td>6.0</td>\n",
       "      <td>205.749504</td>\n",
       "    </tr>\n",
       "    <tr>\n",
       "      <th>2</th>\n",
       "      <td>2069.008287</td>\n",
       "      <td>88884.0</td>\n",
       "      <td>8507.0</td>\n",
       "      <td>1.85</td>\n",
       "      <td>0.030084</td>\n",
       "      <td>6.0</td>\n",
       "      <td>192.434710</td>\n",
       "    </tr>\n",
       "    <tr>\n",
       "      <th>3</th>\n",
       "      <td>3072.195270</td>\n",
       "      <td>157042.0</td>\n",
       "      <td>8743.0</td>\n",
       "      <td>2.43</td>\n",
       "      <td>0.024796</td>\n",
       "      <td>6.0</td>\n",
       "      <td>209.547184</td>\n",
       "    </tr>\n",
       "    <tr>\n",
       "      <th>4</th>\n",
       "      <td>3372.832727</td>\n",
       "      <td>87419.0</td>\n",
       "      <td>8624.0</td>\n",
       "      <td>2.66</td>\n",
       "      <td>0.036582</td>\n",
       "      <td>6.0</td>\n",
       "      <td>218.151201</td>\n",
       "    </tr>\n",
       "  </tbody>\n",
       "</table>\n",
       "</div>"
      ],
      "text/plain": [
       "   mean_income        A4     A11   A13       A16  category      amount\n",
       "0  3246.595714  138032.0  8819.0  5.66  0.032637       6.0  217.411486\n",
       "1  2200.562564   51313.0  8930.0  4.20  0.028297       6.0  205.749504\n",
       "2  2069.008287   88884.0  8507.0  1.85  0.030084       6.0  192.434710\n",
       "3  3072.195270  157042.0  8743.0  2.43  0.024796       6.0  209.547184\n",
       "4  3372.832727   87419.0  8624.0  2.66  0.036582       6.0  218.151201"
      ]
     },
     "execution_count": 21,
     "metadata": {},
     "output_type": "execute_result"
    }
   ],
   "source": [
    "# Store synthetic data in a dataframe\n",
    "synthetic_data=pd.DataFrame(synthetic_data)\n",
    "synthetic_data.columns=[['mean_income','A4','A11','A13','A16', 'category', 'amount']]\n",
    "synthetic_data.head()"
   ]
  },
  {
   "cell_type": "code",
   "execution_count": 22,
   "metadata": {
    "collapsed": true
   },
   "outputs": [],
   "source": [
    "# Save synthetic data\n",
    "synthetic_data.to_csv('./example_synthetic_data.csv')"
   ]
  }
 ],
 "metadata": {
  "kernelspec": {
   "display_name": "Python 3",
   "language": "python",
   "name": "python3"
  },
  "language_info": {
   "codemirror_mode": {
    "name": "ipython",
    "version": 3
   },
   "file_extension": ".py",
   "mimetype": "text/x-python",
   "name": "python",
   "nbconvert_exporter": "python",
   "pygments_lexer": "ipython3",
   "version": "3.6.1"
  }
 },
 "nbformat": 4,
 "nbformat_minor": 2
}
