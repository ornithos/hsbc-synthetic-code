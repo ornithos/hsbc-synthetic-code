{
 "cells": [
  {
   "cell_type": "code",
   "execution_count": 7,
   "metadata": {
    "collapsed": false
   },
   "outputs": [],
   "source": [
    "import pandas as pd\n",
    "import sklearn as sk\n",
    "import numpy as np\n",
    "from sklearn.decomposition import LatentDirichletAllocation"
   ]
  },
  {
   "cell_type": "markdown",
   "metadata": {},
   "source": [
    "### Read in dummy Data"
   ]
  },
  {
   "cell_type": "code",
   "execution_count": 3,
   "metadata": {
    "collapsed": true
   },
   "outputs": [],
   "source": [
    "data = pd.read_csv('database.csv')"
   ]
  },
  {
   "cell_type": "code",
   "execution_count": 74,
   "metadata": {
    "collapsed": false
   },
   "outputs": [
    {
     "data": {
      "text/plain": [
       "Index(['Unnamed: 0', 'account_id', 'trans_id', 'category', 'payee', 'k-symbol',\n",
       "       'date', 'amount', 'mean_income', 'Initial Balance'],\n",
       "      dtype='object')"
      ]
     },
     "execution_count": 74,
     "metadata": {},
     "output_type": "execute_result"
    }
   ],
   "source": [
    "# data.columns"
   ]
  },
  {
   "cell_type": "code",
   "execution_count": 4,
   "metadata": {
    "collapsed": true
   },
   "outputs": [],
   "source": [
    "cx = pd.read_csv('customers.csv')"
   ]
  },
  {
   "cell_type": "code",
   "execution_count": 5,
   "metadata": {
    "collapsed": false
   },
   "outputs": [
    {
     "name": "stdout",
     "output_type": "stream",
     "text": [
      "[4500, 1404]\n",
      "1403\n"
     ]
    }
   ],
   "source": [
    "print([len(set(cx.account_id)), len(set(data.payee))])\n",
    "print(max(data.payee))"
   ]
  },
  {
   "cell_type": "code",
   "execution_count": 83,
   "metadata": {
    "collapsed": false
   },
   "outputs": [],
   "source": [
    "# Remove inc\n",
    "#data = data[data.amount > 0]\n",
    "# data = data.sort_values(['account_id'])\n",
    "# acct_lkp = {'account_id': data.account_id, 'id': range(cx.shape[0])}\n",
    "#data"
   ]
  },
  {
   "cell_type": "markdown",
   "metadata": {},
   "source": [
    "### Data manipulation"
   ]
  },
  {
   "cell_type": "code",
   "execution_count": 17,
   "metadata": {
    "collapsed": false
   },
   "outputs": [
    {
     "data": {
      "text/plain": [
       "array([[ 0.,  0.,  0., ...,  0.,  0.,  0.],\n",
       "       [ 0.,  0.,  0., ...,  0.,  0.,  0.],\n",
       "       [ 0.,  0.,  0., ...,  0.,  0.,  0.],\n",
       "       ..., \n",
       "       [ 0.,  0.,  0., ...,  0.,  0.,  0.],\n",
       "       [ 0.,  0.,  0., ...,  0.,  0.,  0.],\n",
       "       [ 0.,  0.,  0., ...,  0.,  0.,  0.]])"
      ]
     },
     "execution_count": 17,
     "metadata": {},
     "output_type": "execute_result"
    }
   ],
   "source": [
    "# [for each customer, create a row detailing counts for each transaction type]\n",
    "# e.g.\n",
    "#\n",
    "# ID   Type1 Type2 Type3 Type4 Type5\n",
    "# ====================================\n",
    "# 001    0     1     0     3     1\n",
    "# 002    0     0     1     1     0\n",
    "# 003    1     0     0     2     0\n",
    "# ...   ..    ..    ..    ..    ..\n",
    "\n",
    "tfData = np.zeros([cx.shape[0]+1, max(data.payee)+1])\n",
    "cxTot  = data.shape[0]\n",
    "cxNum  = 0\n",
    "for ii in range(data.shape[0]-1):\n",
    "    tfData[cxNum, data.payee[ii]] += 1\n",
    "    cxNum += data.account_id[ii+1] != data.account_id[ii]\n",
    "\n",
    "# do final customer\n",
    "# cII = ii;\n",
    "# for ii in range(cII, data.shape[0]-1):\n",
    "#     tfData[cxNum, data.payee[ii]] += 1\n",
    "tfData\n",
    "\n",
    "# Apologies, this is SLOW and inelegant: only used once in hackathon"
   ]
  },
  {
   "cell_type": "code",
   "execution_count": 20,
   "metadata": {
    "collapsed": false
   },
   "outputs": [
    {
     "data": {
      "text/plain": [
       "238.0"
      ]
     },
     "execution_count": 20,
     "metadata": {},
     "output_type": "execute_result"
    }
   ],
   "source": [
    "tfData.shape"
   ]
  },
  {
   "cell_type": "markdown",
   "metadata": {},
   "source": [
    "### Test scikit-learn LDA\n",
    "(Turns out that this is **much** faster than R's current package implementation (not sure if R uses stochastic/minibatch variational EM))"
   ]
  },
  {
   "cell_type": "code",
   "execution_count": 12,
   "metadata": {
    "collapsed": false
   },
   "outputs": [
    {
     "name": "stderr",
     "output_type": "stream",
     "text": [
      "Downloading dataset from http://people.csail.mit.edu/jrennie/20Newsgroups/20news-bydate.tar.gz (14 MB)\n"
     ]
    }
   ],
   "source": [
    "# Inspect example dataset to understand type of \n",
    "# ===> CHECK \n",
    "from sklearn.datasets import fetch_20newsgroups\n",
    "from sklearn.feature_extraction.text import TfidfVectorizer, CountVectorizer\n",
    "\n",
    "dataset = fetch_20newsgroups(shuffle=True, random_state=1, remove=('headers', 'footers', 'quotes'))\n",
    "documents = dataset.data\n",
    "\n",
    "from sklearn.feature_extraction.text import TfidfVectorizer, CountVectorizer\n",
    "tf_vectorizer = CountVectorizer(max_df=0.95, min_df=2, max_features=1000, stop_words='english')\n",
    "tf = tf_vectorizer.fit_transform(documents)\n",
    "tf_feature_names = tf_vectorizer.get_feature_names()\n",
    "tf\n",
    "# ===> IE. want sparse matrix where every row is a customer, every column is a transaction type."
   ]
  },
  {
   "cell_type": "code",
   "execution_count": null,
   "metadata": {
    "collapsed": false
   },
   "outputs": [],
   "source": [
    "lda = LatentDirichletAllocation(n_topics=25, \n",
    "                                max_iter=5, learning_method='online', \n",
    "                                learning_offset=50.,random_state=0, verbose=True, n_jobs=-1).fit(tfData)"
   ]
  },
  {
   "cell_type": "code",
   "execution_count": 102,
   "metadata": {
    "collapsed": false
   },
   "outputs": [],
   "source": [
    "file1 = open(\"payees.txt\", \"r\")\n",
    "payees = file1.readlines()\n",
    "file1.close()\n",
    "file2 = open(\"types.txt\", \"r\")\n",
    "types = file2.readlines()\n",
    "file2.close()"
   ]
  },
  {
   "cell_type": "code",
   "execution_count": 107,
   "metadata": {
    "collapsed": false
   },
   "outputs": [
    {
     "name": "stdout",
     "output_type": "stream",
     "text": [
      "Topic 0:\n",
      "VIRGINTRAINSEC SERVCS\n",
      " DAVID LLOYD00000000\n",
      " PREMIER TRADING UK\n",
      " RSS ABERGAVENNY\n",
      " GOVERNMENT KNOWLEGDE E\n",
      " SP  SHERWOOD DIA\n",
      " PC WORLD\n",
      " COUNCIL TAX\n",
      " FUN PARTY LTD\n",
      " J D SPORTS  100\n",
      "\n",
      "Topic 1:\n",
      "EMAP LTD-SUBSCRIPTIONS\n",
      " EASYJET     ENRP\n",
      " TFL CC/LEZ CHARGE\n",
      " GLOTECH\n",
      " FIRSTCHOICE CATERIN\n",
      " THE CHALLENGE NETW\n",
      " WWW.ADDISONLEE.COM\n",
      " TYPOFONDERIE\n",
      " UPT CHESHIRE EAST BORO\n",
      " MOORE SONS LTD\n",
      "\n",
      "Topic 2:\n",
      "WWW.BRITISHNEWSPAPERAC\n",
      " WWW.FOUNDATION STAGE\n",
      " SUN PLASTICS\n",
      " QUBIC PRINT DIRECT\n",
      " LONDON PLANT HIRE\n",
      " FACEBOOK WLWHA82K52\n",
      " OSCARS DEN\n",
      " FILMBANK PVSL ACC\n",
      " HOTELS MELIA\n",
      " RYMAN 1164\n",
      "\n",
      "Topic 3:\n",
      "Amazon UK Marketpla\n",
      " EA HAZARDOUS WASTE-DOM\n",
      " STAPLES UK\n",
      " TESCO STORES-2265\n",
      " KASHMIR BUTCHERS LTD\n",
      " TESCO STORE 2131\n",
      " TICKETMASTER UK\n",
      " WWW.METROLINE.CO.U\n",
      " CURRIE MOTORS CAR\n",
      " ADVANTIS CREDIT - MOTO\n",
      "\n",
      "Topic 4:\n",
      "PAYPAL NEOTECHNOLO\n",
      " FROM CHINA LIMITED\n",
      " FLEET CARS & COURIERS\n",
      " THOMPSONS OF CREWS\n",
      " TSGN000000000000000\n",
      " FILMBANK PVSL ACC\n",
      " RS LOCKSMITH MLA\n",
      " HALFORDS 430\n",
      " PHONAK GROUP LTD\n",
      " WAITROSE 124\n",
      "\n",
      "Topic 5:\n",
      "BOWMONK LTD\n",
      " ROYAL MAIL GROUP\n",
      " POPAT STORES UK LT\n",
      " LONDON BOROUGH/GRE\n",
      " PPAPPLETAXIS\n",
      " SMYTHS TOYS UK LTD\n",
      " TESCO STORES 2479\n",
      " CREATESEND/COM\n",
      " LOWE FLETCHER LTD\n",
      " PRET A MANAGER\n",
      "\n",
      "Topic 6:\n",
      "AMAZON SVCS EUROPE,SAR\n",
      " ASDA STORES 7134\n",
      " ASDA HOME DELIVERY\n",
      " VIRGIN MONEY GIVING\n",
      " SELFSERVE TICKET\n",
      " SAINSBURYS LOC (4216)\n",
      " RYMAN 1164\n",
      " SAINSBURYS LOC4952\n",
      " ALLSOP & FRANCIS\n",
      " AMAZON PRIME\n",
      "\n",
      "Topic 7:\n",
      "AMAZON SVCS EUROPE,SAR\n",
      " ASDA STORES 7134\n",
      " SAINSBURYS LOC4952\n",
      " RYMAN 1164\n",
      " HIGH BARNET DENTAL\n",
      " TESCO STORES 35\n",
      " SAINSBURYS LOC (4216)\n",
      " VIRGIN MONEY GIVING\n",
      " ASDA HOME DELIVERY\n",
      " TRAINLINE.COM\n",
      "\n",
      "Topic 8:\n",
      "SCUBA ZONE\n",
      " ASDA STORES 7134\n",
      " HIGH BARNET DENTAL\n",
      " TL RAILWAY TICKETS\n",
      " GRANGE BARNET\n",
      " SAINSBURYS LOC4952\n",
      " GREATCAKEWA\n",
      " WWW.PRESCHOOL.ORG.UK\n",
      " RYMAN 1164\n",
      " PIZZA HUT ONLINE WEB\n",
      "\n",
      "Topic 9:\n",
      "COSTA\n",
      " HOBBY CRAFT LTD\n",
      " TESCO STORE 2296\n",
      " PINKS SPIRES\n",
      " GOV.UK/DART-CHARGE\n",
      " NANDOS FINCHLEY\n",
      " CAPITAL FIRE RISK ASSE\n",
      " COOPERS OF BARNET\n",
      " INCLUSIVE TECHNOLOGY L\n",
      " AMAZON UK RETAIL\n",
      "\n",
      "Topic 10:\n",
      "WWW.TEAM-SPORT.CO.U\n",
      " JD SPORTS PLC 293\n",
      " CAPITA RECRUITMENT VET\n",
      " TESCO STORE 2628\n",
      " WWW.OAKLANDS.AC.UK\n",
      " PAYPAL DREAMS LTD\n",
      " OYSTER BUS AUTOTOP0\n",
      " PAYPAL EMJSHOP\n",
      " THOMPSONS OF CREWS\n",
      " BUILDER DEPOT N11\n",
      "\n",
      "Topic 11:\n",
      "HIGH BARNET DENTAL\n",
      " ASDA STORES 7134\n",
      " WWW.COMPANYWATCH.NE\n",
      " AMAZON SVCS EUROPE,SAR\n",
      " LAWSONS WHETSTONE00\n",
      " GRANGE BARNET\n",
      " SAINSBURYS LOC4952\n",
      " RYMAN 1164\n",
      " SAINSBURYS LOC (4216)\n",
      " SAINSBURYS 0649\n",
      "\n",
      "Topic 12:\n",
      "ASDA STORES 7134\n",
      " AMAZON SVCS EUROPE,SAR\n",
      " HIGH BARNET DENTAL\n",
      " EBUYER (UK) LTD\n",
      " TV LICENSING0000000\n",
      " ASDA HOME DELIVERY\n",
      " SAINSBURYS LOC (4216)\n",
      " RYMAN 1164\n",
      " SAINSBURYS LOC4952\n",
      " VIRGIN MONEY GIVING\n",
      "\n",
      "Topic 13:\n",
      "ODEON/BOOKIT\n",
      " ASDA STORES 7134\n",
      " RYMAN 1164\n",
      " PARTRIDGE  PRINT000\n",
      " AMAZON SVCS EUROPE,SAR\n",
      " SAINSBURYS 0649\n",
      " SAINSBURYS LOC (4216)\n",
      " TESCO PFS 2939\n",
      " WWW.NDNA.ORG.UK\n",
      " TRAINLINE.COM\n",
      "\n",
      "Topic 14:\n",
      "ASDA STORES 7134\n",
      " RYMAN 1164\n",
      " AMAZON SVCS EUROPE,SAR\n",
      " SAINSBURYS LOC (4216)\n",
      " MOTHERCARE UK LTD\n",
      " VIRGIN MONEY GIVING\n",
      " EB FAIR EXCHANGE DEVE\n",
      " SPORTSDIRECT 38\n",
      " ALLSOP & FRANCIS\n",
      " CANFORD AUDIO PLC\n",
      "\n",
      "Topic 15:\n",
      "ASDA STORES 7134\n",
      " KFC LIVERPOOL\n",
      " AMAZON SVCS EUROPE,SAR\n",
      " ASDA HOME DELIVERY\n",
      " RYMAN 1164\n",
      " SAINSBURYS LOC4952\n",
      " SAINSBURYS LOC (4216)\n",
      " SAINSBURYS 0649\n",
      " VIRGIN MONEY GIVING\n",
      " SELFSERVE TICKET\n",
      "\n",
      "Topic 16:\n",
      "ASDA STORES 7134\n",
      " HIGH BARNET DENTAL\n",
      " SAINSBURYS LOC (4216)\n",
      " AMAZON SVCS EUROPE,SAR\n",
      " RYMAN 1164\n",
      " ASDA HOME DELIVERY\n",
      " ALLSOP & FRANCIS\n",
      " TRAINLINE.COM\n",
      " GN RAILWAY TICKETS\n",
      " FCC CONNECT\n",
      "\n",
      "Topic 17:\n",
      "Amazon *Mktplce EU-\n",
      " THE WHO CARE TRUST\n",
      " HEAD - BRISTOL\n",
      " WWW.OAKLANDS.AC.UK\n",
      " WWW.TIGERPENS.CO.UK\n",
      " GOURMET BURGER KIT\n",
      " B R E\n",
      " WWW.MILKANDMORE.CO.\n",
      " Amazon EU\n",
      " WWW.TREES.ORG.UK\n",
      "\n",
      "Topic 18:\n",
      "ASDA HOME DELIVERY\n",
      " AMAZON SVCS EUROPE,SAR\n",
      " ASDA STORES 7134\n",
      " KFC LIVERPOOL\n",
      " SELFSERVE TICKET\n",
      " RYMAN 1164\n",
      " AMAZON PRIME\n",
      " TFL CC/LEZ PENALTY\n",
      " ALLSOP & FRANCIS\n",
      " SAINSBURYS LOC4952\n",
      "\n",
      "Topic 19:\n",
      "ASDA STORES 7134\n",
      " AMAZON SVCS EUROPE,SAR\n",
      " D & R SIMMONS LTD\n",
      " ASDA HOME DELIVERY\n",
      " RYMAN 1164\n",
      " TFL CC/LEZ PENALTY\n",
      " SAINSBURYS LOC (4216)\n",
      " VIRGIN MONEY GIVING\n",
      " SAINSBURYS LOC4952\n",
      " SELFSERVE TICKET\n",
      "\n",
      "Topic 20:\n",
      "ASDA STORES 7134\n",
      " ASDA HOME DELIVERY\n",
      " GN RAILWAY TICKETS\n",
      " SAINSBURYS LOC (4216)\n",
      " VIRGIN MONEY GIVING\n",
      " KFC - WOOD GREEN RS\n",
      " AMAZON SVCS EUROPE,SAR\n",
      " SELFSERVE TICKET\n",
      " FCC CONNECT\n",
      " TRAINLINE.COM\n",
      "\n",
      "Topic 21:\n",
      "WP-THE LIGHTBULB C\n",
      " HOMEBASE LTD\n",
      " LCBT\n",
      " WWW.DVLA.GOV.UK\n",
      " CASTLE COACHING IN\n",
      " BT BILL PAYMENT 1\n",
      " WWW.LABELSANDTAGS.C\n",
      " FUNDING SOLUTIONS FOR\n",
      " NORTH LONDON BUS.00\n",
      " HEALTHCARE CONFEREN\n",
      "\n",
      "Topic 22:\n",
      "THE NURTURE GROUP N\n",
      " SAINSBURYS 0124\n",
      " Lynette Headley-JoneWATERSIDE\n",
      " WWW.LABELSANDTAGS.CO.U\n",
      " ENVIRONMENT MEDIA GRP\n",
      " W GADSBY  SON LTD00\n",
      " VALUE PRODUCTS LTD\n",
      " SNA MANUFACTURING LTD\n",
      " THE SPIRES\n",
      " ROADCHEF WATFORD G\n",
      "\n",
      "Topic 23:\n",
      "ASDA STORES 7134\n",
      " SAINSBURYS LOC4952\n",
      " SAINSBURYS 0649\n",
      " AMAZON SVCS EUROPE,SAR\n",
      " ASDA HOME DELIVERY\n",
      " ALLSOP & FRANCIS\n",
      " RYMAN 1164\n",
      " SAINSBURYS LOC (4216)\n",
      " VIRGIN MONEY GIVING\n",
      " MOTHERCARE UK LTD\n",
      "\n",
      "Topic 24:\n",
      "Amazon UK Retail000\n",
      " DAVID LLOYD00000000\n",
      " ROBINSON HEALTHCARE\n",
      " ARGOS\n",
      " LCOTRADING.CO.UK\n",
      " ARGOS NEW STHGATE\n",
      " DRI SOPHOS SOFTWARE\n",
      " HORNBY DIRECT\n",
      " HAYMARKET PUBLISHI\n",
      " WWW.DOORCONTROLSDIR\n",
      "\n"
     ]
    }
   ],
   "source": [
    "num_top_trans = 10\n",
    "for topic_idx, topic in enumerate(lda.components_):\n",
    "    print(\"Topic %d:\" % (topic_idx))\n",
    "    print(\" \".join([payees[i]\n",
    "                    for i in topic.argsort()[:-num_top_trans - 1:-1]]))"
   ]
  },
  {
   "cell_type": "markdown",
   "metadata": {
    "collapsed": true
   },
   "source": [
    "##### Problems with scikit package:\n",
    "It is not at all obvious how to extract the categorical distributions by customer from the python LDA implementation: this is a shame as it is extremely fast. Perhaps this can be explored later - Matt Hoffman's script upon which the sklean script is based is clearer, but written in Python 2.x, which I don't currently have installed. Therefore, I've resorted to using R:"
   ]
  },
  {
   "cell_type": "markdown",
   "metadata": {},
   "source": [
    "### Instead interfact with R's version\n",
    "(Unfortunately this is extremely slow.)"
   ]
  },
  {
   "cell_type": "code",
   "execution_count": 23,
   "metadata": {
    "collapsed": false
   },
   "outputs": [
    {
     "ename": "FileNotFoundError",
     "evalue": "[Errno 2] No such file or directory: '/usr/bin/Rscript'",
     "output_type": "error",
     "traceback": [
      "\u001b[0;31m---------------------------------------------------------------------------\u001b[0m",
      "\u001b[0;31mFileNotFoundError\u001b[0m                         Traceback (most recent call last)",
      "\u001b[0;32m<ipython-input-23-d9e3acdfc238>\u001b[0m in \u001b[0;36m<module>\u001b[0;34m()\u001b[0m\n\u001b[1;32m      1\u001b[0m \u001b[0;31m# R scripts may be called from python via:\u001b[0m\u001b[0;34m\u001b[0m\u001b[0;34m\u001b[0m\u001b[0m\n\u001b[1;32m      2\u001b[0m \u001b[0;32mfrom\u001b[0m \u001b[0msubprocess\u001b[0m \u001b[0;32mimport\u001b[0m \u001b[0mcall\u001b[0m\u001b[0;34m\u001b[0m\u001b[0m\n\u001b[0;32m----> 3\u001b[0;31m \u001b[0mcall\u001b[0m \u001b[0;34m(\u001b[0m\u001b[0;34m[\u001b[0m\u001b[0;34m\"/usr/bin/Rscript\"\u001b[0m\u001b[0;34m,\u001b[0m \u001b[0;34m\"--vanilla\"\u001b[0m\u001b[0;34m,\u001b[0m \u001b[0;34m\"./r-lda.r\"\u001b[0m\u001b[0;34m]\u001b[0m\u001b[0;34m)\u001b[0m\u001b[0;34m\u001b[0m\u001b[0m\n\u001b[0m\u001b[1;32m      4\u001b[0m     \u001b[0;31m# see script r-lda.R\u001b[0m\u001b[0;34m\u001b[0m\u001b[0;34m\u001b[0m\u001b[0m\n",
      "\u001b[0;32m/Users/alexbird/anaconda3/lib/python3.5/subprocess.py\u001b[0m in \u001b[0;36mcall\u001b[0;34m(timeout, *popenargs, **kwargs)\u001b[0m\n\u001b[1;32m    555\u001b[0m     \u001b[0mretcode\u001b[0m \u001b[0;34m=\u001b[0m \u001b[0mcall\u001b[0m\u001b[0;34m(\u001b[0m\u001b[0;34m[\u001b[0m\u001b[0;34m\"ls\"\u001b[0m\u001b[0;34m,\u001b[0m \u001b[0;34m\"-l\"\u001b[0m\u001b[0;34m]\u001b[0m\u001b[0;34m)\u001b[0m\u001b[0;34m\u001b[0m\u001b[0m\n\u001b[1;32m    556\u001b[0m     \"\"\"\n\u001b[0;32m--> 557\u001b[0;31m     \u001b[0;32mwith\u001b[0m \u001b[0mPopen\u001b[0m\u001b[0;34m(\u001b[0m\u001b[0;34m*\u001b[0m\u001b[0mpopenargs\u001b[0m\u001b[0;34m,\u001b[0m \u001b[0;34m**\u001b[0m\u001b[0mkwargs\u001b[0m\u001b[0;34m)\u001b[0m \u001b[0;32mas\u001b[0m \u001b[0mp\u001b[0m\u001b[0;34m:\u001b[0m\u001b[0;34m\u001b[0m\u001b[0m\n\u001b[0m\u001b[1;32m    558\u001b[0m         \u001b[0;32mtry\u001b[0m\u001b[0;34m:\u001b[0m\u001b[0;34m\u001b[0m\u001b[0m\n\u001b[1;32m    559\u001b[0m             \u001b[0;32mreturn\u001b[0m \u001b[0mp\u001b[0m\u001b[0;34m.\u001b[0m\u001b[0mwait\u001b[0m\u001b[0;34m(\u001b[0m\u001b[0mtimeout\u001b[0m\u001b[0;34m=\u001b[0m\u001b[0mtimeout\u001b[0m\u001b[0;34m)\u001b[0m\u001b[0;34m\u001b[0m\u001b[0m\n",
      "\u001b[0;32m/Users/alexbird/anaconda3/lib/python3.5/subprocess.py\u001b[0m in \u001b[0;36m__init__\u001b[0;34m(self, args, bufsize, executable, stdin, stdout, stderr, preexec_fn, close_fds, shell, cwd, env, universal_newlines, startupinfo, creationflags, restore_signals, start_new_session, pass_fds)\u001b[0m\n\u001b[1;32m    945\u001b[0m                                 \u001b[0mc2pread\u001b[0m\u001b[0;34m,\u001b[0m \u001b[0mc2pwrite\u001b[0m\u001b[0;34m,\u001b[0m\u001b[0;34m\u001b[0m\u001b[0m\n\u001b[1;32m    946\u001b[0m                                 \u001b[0merrread\u001b[0m\u001b[0;34m,\u001b[0m \u001b[0merrwrite\u001b[0m\u001b[0;34m,\u001b[0m\u001b[0;34m\u001b[0m\u001b[0m\n\u001b[0;32m--> 947\u001b[0;31m                                 restore_signals, start_new_session)\n\u001b[0m\u001b[1;32m    948\u001b[0m         \u001b[0;32mexcept\u001b[0m\u001b[0;34m:\u001b[0m\u001b[0;34m\u001b[0m\u001b[0m\n\u001b[1;32m    949\u001b[0m             \u001b[0;31m# Cleanup if the child failed starting.\u001b[0m\u001b[0;34m\u001b[0m\u001b[0;34m\u001b[0m\u001b[0m\n",
      "\u001b[0;32m/Users/alexbird/anaconda3/lib/python3.5/subprocess.py\u001b[0m in \u001b[0;36m_execute_child\u001b[0;34m(self, args, executable, preexec_fn, close_fds, pass_fds, cwd, env, startupinfo, creationflags, shell, p2cread, p2cwrite, c2pread, c2pwrite, errread, errwrite, restore_signals, start_new_session)\u001b[0m\n\u001b[1;32m   1549\u001b[0m                             \u001b[0;32melse\u001b[0m\u001b[0;34m:\u001b[0m\u001b[0;34m\u001b[0m\u001b[0m\n\u001b[1;32m   1550\u001b[0m                                 \u001b[0merr_msg\u001b[0m \u001b[0;34m+=\u001b[0m \u001b[0;34m': '\u001b[0m \u001b[0;34m+\u001b[0m \u001b[0mrepr\u001b[0m\u001b[0;34m(\u001b[0m\u001b[0morig_executable\u001b[0m\u001b[0;34m)\u001b[0m\u001b[0;34m\u001b[0m\u001b[0m\n\u001b[0;32m-> 1551\u001b[0;31m                     \u001b[0;32mraise\u001b[0m \u001b[0mchild_exception_type\u001b[0m\u001b[0;34m(\u001b[0m\u001b[0merrno_num\u001b[0m\u001b[0;34m,\u001b[0m \u001b[0merr_msg\u001b[0m\u001b[0;34m)\u001b[0m\u001b[0;34m\u001b[0m\u001b[0m\n\u001b[0m\u001b[1;32m   1552\u001b[0m                 \u001b[0;32mraise\u001b[0m \u001b[0mchild_exception_type\u001b[0m\u001b[0;34m(\u001b[0m\u001b[0merr_msg\u001b[0m\u001b[0;34m)\u001b[0m\u001b[0;34m\u001b[0m\u001b[0m\n\u001b[1;32m   1553\u001b[0m \u001b[0;34m\u001b[0m\u001b[0m\n",
      "\u001b[0;31mFileNotFoundError\u001b[0m: [Errno 2] No such file or directory: '/usr/bin/Rscript'"
     ]
    }
   ],
   "source": [
    "# R scripts may be called from python via: \n",
    "from subprocess import call\n",
    "call ([\"/usr/bin/Rscript\", \"--vanilla\", \"./r-lda.r\"])\n",
    "    # see script r-lda.R"
   ]
  },
  {
   "cell_type": "code",
   "execution_count": null,
   "metadata": {
    "collapsed": true
   },
   "outputs": [],
   "source": [
    "# load inputs in from R\n",
    "cxDistns     = pd.read_csv('lda_distns.csv')\n",
    "typeClusters = pd.read_csv('lda_clusters.csv')"
   ]
  }
 ],
 "metadata": {
  "anaconda-cloud": {},
  "kernelspec": {
   "display_name": "Python [default]",
   "language": "python",
   "name": "python3"
  },
  "language_info": {
   "codemirror_mode": {
    "name": "ipython",
    "version": 3
   },
   "file_extension": ".py",
   "mimetype": "text/x-python",
   "name": "python",
   "nbconvert_exporter": "python",
   "pygments_lexer": "ipython3",
   "version": "3.5.2"
  }
 },
 "nbformat": 4,
 "nbformat_minor": 1
}
