{
 "cells": [
  {
   "cell_type": "markdown",
   "metadata": {},
   "source": [
    "# Probabilitic Data Generator\n",
    "This code generates synthetic data based on a probabilistic formulation specified in the report."
   ]
  },
  {
   "cell_type": "code",
   "execution_count": 1,
   "metadata": {
    "collapsed": true
   },
   "outputs": [],
   "source": [
    "import numpy as np\n",
    "import pandas as pd\n",
    "import scipy.stats as st\n",
    "import pickle"
   ]
  },
  {
   "cell_type": "code",
   "execution_count": 2,
   "metadata": {
    "collapsed": true
   },
   "outputs": [],
   "source": [
    "# Model Parameters\n",
    "I = 100 # Number of customers\n",
    "J = 100 # Number of trasactions per customer\n",
    "K = 2 # Number of transactions types\n",
    "R = 3 # Regression dimensionality\n",
    "\n",
    "eta = 1000 # Gamma parameter 1 - Prior Parameter\n",
    "zeta = 500 # Gamma parameter 2 - Prior Parameter\n",
    "\n",
    "# Randomly generated features - Can be subsituted with real ones based on true data\n",
    "b = np.random.normal(0, 1, size=(I, R)) \n",
    "\n",
    "# Hyperparamers - Usually learned from data\n",
    "lambdas = np.random.exponential(scale=0.2, size=(K, R))"
   ]
  },
  {
   "cell_type": "code",
   "execution_count": 3,
   "metadata": {
    "collapsed": true
   },
   "outputs": [],
   "source": [
    "# Regression coefficients - Usually Learned from data\n",
    "w = np.random.normal(0, scale=lambdas)\n",
    "\n",
    "# Calculate probability vector of types for each customer\n",
    "logits = np.matmul(w,b.T).T\n",
    "theta = np.exp(logits)/np.sum(np.exp(logits), axis=1)[:,None]\n",
    "\n",
    "# Sample model parameters from prior\n",
    "phi_alpha = np.random.exponential(eta, K)\n",
    "phi_beta = np.random.exponential(zeta, K)"
   ]
  },
  {
   "cell_type": "code",
   "execution_count": 5,
   "metadata": {
    "collapsed": true
   },
   "outputs": [],
   "source": [
    "# Generate data from model\n",
    "cid = []\n",
    "y = []\n",
    "x = []\n",
    "for i in range(I): \n",
    "    alpha = np.dot(phi_alpha, theta[i,:])\n",
    "    beta = np.dot(phi_beta, theta[i,:])\n",
    "    for j in range(J):\n",
    "        cid.append(i)\n",
    "        y.append(np.random.choice(K, p=theta[i,:]))\n",
    "        x.append(np.random.gamma(alpha, beta))"
   ]
  },
  {
   "cell_type": "code",
   "execution_count": 6,
   "metadata": {},
   "outputs": [],
   "source": [
    "# Format data\n",
    "x = np.vstack(x)\n",
    "y = np.vstack(y)\n",
    "cid = np.vstack(cid)\n",
    "\n",
    "data = np.hstack([cid,y,x])\n",
    "\n",
    "data = pd.DataFrame(data=data, columns=['cid', 'y', 'x'])\n",
    "\n",
    "bs = [b[i,:] for i in range(b.shape[0])]\n",
    "\n",
    "x = [list(data[data['cid']==i]['x']) for i in range(I)]\n",
    "y = [list(data[data['cid']==i]['y'].astype(int)) for i in range(I)]"
   ]
  },
  {
   "cell_type": "code",
   "execution_count": 7,
   "metadata": {
    "collapsed": true
   },
   "outputs": [],
   "source": [
    "#Store data in a dictionary\n",
    "model_data = {\n",
    "    'I': I,\n",
    "    'J': J,\n",
    "    'K': K,\n",
    "    'R': R,\n",
    "    'eta': eta,\n",
    "    'zeta': zeta,\n",
    "    'b': bs,\n",
    "    'x': x,\n",
    "    'y': y,\n",
    "    'lambda': lambdas\n",
    "}"
   ]
  },
  {
   "cell_type": "code",
   "execution_count": 8,
   "metadata": {
    "collapsed": true
   },
   "outputs": [],
   "source": [
    "# Save data\n",
    "with open('./model_data.pickle', 'wb') as f:\n",
    "    pickle.dump(model_data, f)"
   ]
  },
  {
   "cell_type": "code",
   "execution_count": 9,
   "metadata": {
    "collapsed": true
   },
   "outputs": [],
   "source": [
    "# Store model parameters in a dictionary\n",
    "init_dict = {\n",
    "    'omega': w,\n",
    "    'phi_alpha': phi_alpha,\n",
    "    'phi_beta': phi_beta,\n",
    "    'theta': theta\n",
    "}"
   ]
  },
  {
   "cell_type": "code",
   "execution_count": 10,
   "metadata": {
    "collapsed": true
   },
   "outputs": [],
   "source": [
    "# Save model parameters\n",
    "with open('./init_dict.pickle', 'wb') as f:\n",
    "    pickle.dump(init_dict, f)"
   ]
  }
 ],
 "metadata": {
  "kernelspec": {
   "display_name": "Python 3",
   "language": "python",
   "name": "python3"
  },
  "language_info": {
   "codemirror_mode": {
    "name": "ipython",
    "version": 3
   },
   "file_extension": ".py",
   "mimetype": "text/x-python",
   "name": "python",
   "nbconvert_exporter": "python",
   "pygments_lexer": "ipython3",
   "version": "3.6.1"
  }
 },
 "nbformat": 4,
 "nbformat_minor": 2
}
